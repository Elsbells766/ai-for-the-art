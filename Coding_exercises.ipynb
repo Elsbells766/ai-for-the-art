{
 "cells": [
  {
   "cell_type": "code",
   "execution_count": null,
   "id": "c5d10268",
   "metadata": {
    "vscode": {
     "languageId": "plaintext"
    }
   },
   "outputs": [],
   "source": [
    "print(\"Hello, World!\")"
   ]
  },
  {
   "cell_type": "markdown",
   "id": "0aee8e0a",
   "metadata": {},
   "source": [
    "# First code markdown\n",
    "In this space i will exercise my abilities to program and gain knowlage.\n",
    "\n",
    "- i would like to become a more confident coder \n",
    "- i would like to learn and understand basic programming concepts "
   ]
  },
  {
   "cell_type": "markdown",
   "id": "87dd6e0d",
   "metadata": {},
   "source": [
    "Hello, world! \"The code below was created as my first attempt at programming for this course, It is aiming to helop me write and run code in github codespaces\""
   ]
  }
 ],
 "metadata": {
  "language_info": {
   "name": "python"
  }
 },
 "nbformat": 4,
 "nbformat_minor": 5
}
